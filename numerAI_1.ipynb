{
 "cells": [
  {
   "cell_type": "code",
   "execution_count": 193,
   "id": "ed92beb7-2810-4ba2-b7c5-74ff827bb730",
   "metadata": {
    "tags": []
   },
   "outputs": [],
   "source": [
    "import matplotlib\n",
    "import numpy as np\n",
    "import pandas as pd\n",
    "from numerapi import NumerAPI\n",
    "import random\n",
    "import sklearn\n",
    "import lightgbm\n",
    "import matplotlib.pyplot as plt\n",
    "import utils\n",
    "import torch\n",
    "import torch.nn as nn\n",
    "import torch.optim as optim\n",
    "from torch.utils.data import TensorDataset\n",
    "from torch.utils.data import DataLoader\n",
    "from sklearn.preprocessing import MinMaxScaler\n",
    "from sklearn.metrics import accuracy_score\n",
    "from scipy import stats\n",
    "import tqdm\n",
    "import copy\n",
    "import gc\n",
    "%matplotlib inline\n"
   ]
  },
  {
   "cell_type": "code",
   "execution_count": 194,
   "id": "5123fb38-d7c0-401c-80da-db1869b9c4f2",
   "metadata": {
    "tags": []
   },
   "outputs": [
    {
     "name": "stdout",
     "output_type": "stream",
     "text": [
      "helper_functions.py already exists, skipping download\n"
     ]
    }
   ],
   "source": [
    "import requests\n",
    "from pathlib import Path \n",
    "\n",
    "# Download helper functions from Learn PyTorch repo (if not already downloaded)\n",
    "if Path(\"helper_functions.py\").is_file():\n",
    "  print(\"helper_functions.py already exists, skipping download\")\n",
    "else:\n",
    "  print(\"Downloading helper_functions.py\")\n",
    "  request = requests.get(\"https://raw.githubusercontent.com/mrdbourke/pytorch-deep-learning/main/helper_functions.py\")\n",
    "  with open(\"helper_functions.py\", \"wb\") as f:\n",
    "    f.write(request.content)\n",
    "\n",
    "from helper_functions import plot_predictions, plot_decision_boundary"
   ]
  },
  {
   "cell_type": "code",
   "execution_count": 195,
   "id": "8eeafae5-0e97-42ce-ab0b-d5e8d1e96c42",
   "metadata": {
    "tags": []
   },
   "outputs": [
    {
     "ename": "ArrowMemoryError",
     "evalue": "malloc of size 11889599168 failed",
     "output_type": "error",
     "traceback": [
      "\u001b[1;31m---------------------------------------------------------------------------\u001b[0m",
      "\u001b[1;31mArrowMemoryError\u001b[0m                          Traceback (most recent call last)",
      "Cell \u001b[1;32mIn[195], line 9\u001b[0m\n\u001b[0;32m      3\u001b[0m current_round \u001b[38;5;241m=\u001b[39m napi\u001b[38;5;241m.\u001b[39mget_current_round()\n\u001b[0;32m      5\u001b[0m \u001b[38;5;66;03m# read in all of the new datas\u001b[39;00m\n\u001b[0;32m      6\u001b[0m \u001b[38;5;66;03m# tournament data and example predictions change every week so we specify the round in their names\u001b[39;00m\n\u001b[0;32m      7\u001b[0m \u001b[38;5;66;03m# training and validation data only change periodically, so no need to download them over again every single week\u001b[39;00m\n\u001b[0;32m      8\u001b[0m \u001b[38;5;66;03m#napi.download_dataset(\"v4/train.parquet\", \"train.parquet\")\u001b[39;00m\n\u001b[1;32m----> 9\u001b[0m df \u001b[38;5;241m=\u001b[39m \u001b[43mpd\u001b[49m\u001b[38;5;241;43m.\u001b[39;49m\u001b[43mread_parquet\u001b[49m\u001b[43m(\u001b[49m\u001b[38;5;124;43m'\u001b[39;49m\u001b[38;5;124;43mtrain.parquet\u001b[39;49m\u001b[38;5;124;43m'\u001b[39;49m\u001b[43m)\u001b[49m\n\u001b[0;32m     11\u001b[0m df\u001b[38;5;241m.\u001b[39mhead(\u001b[38;5;241m10\u001b[39m)\n",
      "File \u001b[1;32m~\\AppData\\Local\\Programs\\Python\\Python311\\Lib\\site-packages\\pandas\\io\\parquet.py:509\u001b[0m, in \u001b[0;36mread_parquet\u001b[1;34m(path, engine, columns, storage_options, use_nullable_dtypes, dtype_backend, **kwargs)\u001b[0m\n\u001b[0;32m    506\u001b[0m     use_nullable_dtypes \u001b[38;5;241m=\u001b[39m \u001b[38;5;28;01mFalse\u001b[39;00m\n\u001b[0;32m    507\u001b[0m check_dtype_backend(dtype_backend)\n\u001b[1;32m--> 509\u001b[0m \u001b[38;5;28;01mreturn\u001b[39;00m \u001b[43mimpl\u001b[49m\u001b[38;5;241;43m.\u001b[39;49m\u001b[43mread\u001b[49m\u001b[43m(\u001b[49m\n\u001b[0;32m    510\u001b[0m \u001b[43m    \u001b[49m\u001b[43mpath\u001b[49m\u001b[43m,\u001b[49m\n\u001b[0;32m    511\u001b[0m \u001b[43m    \u001b[49m\u001b[43mcolumns\u001b[49m\u001b[38;5;241;43m=\u001b[39;49m\u001b[43mcolumns\u001b[49m\u001b[43m,\u001b[49m\n\u001b[0;32m    512\u001b[0m \u001b[43m    \u001b[49m\u001b[43mstorage_options\u001b[49m\u001b[38;5;241;43m=\u001b[39;49m\u001b[43mstorage_options\u001b[49m\u001b[43m,\u001b[49m\n\u001b[0;32m    513\u001b[0m \u001b[43m    \u001b[49m\u001b[43muse_nullable_dtypes\u001b[49m\u001b[38;5;241;43m=\u001b[39;49m\u001b[43muse_nullable_dtypes\u001b[49m\u001b[43m,\u001b[49m\n\u001b[0;32m    514\u001b[0m \u001b[43m    \u001b[49m\u001b[43mdtype_backend\u001b[49m\u001b[38;5;241;43m=\u001b[39;49m\u001b[43mdtype_backend\u001b[49m\u001b[43m,\u001b[49m\n\u001b[0;32m    515\u001b[0m \u001b[43m    \u001b[49m\u001b[38;5;241;43m*\u001b[39;49m\u001b[38;5;241;43m*\u001b[39;49m\u001b[43mkwargs\u001b[49m\u001b[43m,\u001b[49m\n\u001b[0;32m    516\u001b[0m \u001b[43m\u001b[49m\u001b[43m)\u001b[49m\n",
      "File \u001b[1;32m~\\AppData\\Local\\Programs\\Python\\Python311\\Lib\\site-packages\\pandas\\io\\parquet.py:230\u001b[0m, in \u001b[0;36mPyArrowImpl.read\u001b[1;34m(self, path, columns, use_nullable_dtypes, dtype_backend, storage_options, **kwargs)\u001b[0m\n\u001b[0;32m    226\u001b[0m \u001b[38;5;28;01mtry\u001b[39;00m:\n\u001b[0;32m    227\u001b[0m     pa_table \u001b[38;5;241m=\u001b[39m \u001b[38;5;28mself\u001b[39m\u001b[38;5;241m.\u001b[39mapi\u001b[38;5;241m.\u001b[39mparquet\u001b[38;5;241m.\u001b[39mread_table(\n\u001b[0;32m    228\u001b[0m         path_or_handle, columns\u001b[38;5;241m=\u001b[39mcolumns, \u001b[38;5;241m*\u001b[39m\u001b[38;5;241m*\u001b[39mkwargs\n\u001b[0;32m    229\u001b[0m     )\n\u001b[1;32m--> 230\u001b[0m     result \u001b[38;5;241m=\u001b[39m \u001b[43mpa_table\u001b[49m\u001b[38;5;241;43m.\u001b[39;49m\u001b[43mto_pandas\u001b[49m\u001b[43m(\u001b[49m\u001b[38;5;241;43m*\u001b[39;49m\u001b[38;5;241;43m*\u001b[39;49m\u001b[43mto_pandas_kwargs\u001b[49m\u001b[43m)\u001b[49m\n\u001b[0;32m    232\u001b[0m     \u001b[38;5;28;01mif\u001b[39;00m manager \u001b[38;5;241m==\u001b[39m \u001b[38;5;124m\"\u001b[39m\u001b[38;5;124marray\u001b[39m\u001b[38;5;124m\"\u001b[39m:\n\u001b[0;32m    233\u001b[0m         result \u001b[38;5;241m=\u001b[39m result\u001b[38;5;241m.\u001b[39m_as_manager(\u001b[38;5;124m\"\u001b[39m\u001b[38;5;124marray\u001b[39m\u001b[38;5;124m\"\u001b[39m, copy\u001b[38;5;241m=\u001b[39m\u001b[38;5;28;01mFalse\u001b[39;00m)\n",
      "File \u001b[1;32m~\\AppData\\Local\\Programs\\Python\\Python311\\Lib\\site-packages\\pyarrow\\array.pxi:837\u001b[0m, in \u001b[0;36mpyarrow.lib._PandasConvertible.to_pandas\u001b[1;34m()\u001b[0m\n",
      "File \u001b[1;32m~\\AppData\\Local\\Programs\\Python\\Python311\\Lib\\site-packages\\pyarrow\\table.pxi:4114\u001b[0m, in \u001b[0;36mpyarrow.lib.Table._to_pandas\u001b[1;34m()\u001b[0m\n",
      "File \u001b[1;32m~\\AppData\\Local\\Programs\\Python\\Python311\\Lib\\site-packages\\pyarrow\\pandas_compat.py:820\u001b[0m, in \u001b[0;36mtable_to_blockmanager\u001b[1;34m(options, table, categories, ignore_metadata, types_mapper)\u001b[0m\n\u001b[0;32m    818\u001b[0m _check_data_column_metadata_consistency(all_columns)\n\u001b[0;32m    819\u001b[0m columns \u001b[38;5;241m=\u001b[39m _deserialize_column_index(table, all_columns, column_indexes)\n\u001b[1;32m--> 820\u001b[0m blocks \u001b[38;5;241m=\u001b[39m \u001b[43m_table_to_blocks\u001b[49m\u001b[43m(\u001b[49m\u001b[43moptions\u001b[49m\u001b[43m,\u001b[49m\u001b[43m \u001b[49m\u001b[43mtable\u001b[49m\u001b[43m,\u001b[49m\u001b[43m \u001b[49m\u001b[43mcategories\u001b[49m\u001b[43m,\u001b[49m\u001b[43m \u001b[49m\u001b[43mext_columns_dtypes\u001b[49m\u001b[43m)\u001b[49m\n\u001b[0;32m    822\u001b[0m axes \u001b[38;5;241m=\u001b[39m [columns, index]\n\u001b[0;32m    823\u001b[0m \u001b[38;5;28;01mreturn\u001b[39;00m BlockManager(blocks, axes)\n",
      "File \u001b[1;32m~\\AppData\\Local\\Programs\\Python\\Python311\\Lib\\site-packages\\pyarrow\\pandas_compat.py:1168\u001b[0m, in \u001b[0;36m_table_to_blocks\u001b[1;34m(options, block_table, categories, extension_columns)\u001b[0m\n\u001b[0;32m   1163\u001b[0m \u001b[38;5;28;01mdef\u001b[39;00m \u001b[38;5;21m_table_to_blocks\u001b[39m(options, block_table, categories, extension_columns):\n\u001b[0;32m   1164\u001b[0m     \u001b[38;5;66;03m# Part of table_to_blockmanager\u001b[39;00m\n\u001b[0;32m   1165\u001b[0m \n\u001b[0;32m   1166\u001b[0m     \u001b[38;5;66;03m# Convert an arrow table to Block from the internal pandas API\u001b[39;00m\n\u001b[0;32m   1167\u001b[0m     columns \u001b[38;5;241m=\u001b[39m block_table\u001b[38;5;241m.\u001b[39mcolumn_names\n\u001b[1;32m-> 1168\u001b[0m     result \u001b[38;5;241m=\u001b[39m \u001b[43mpa\u001b[49m\u001b[38;5;241;43m.\u001b[39;49m\u001b[43mlib\u001b[49m\u001b[38;5;241;43m.\u001b[39;49m\u001b[43mtable_to_blocks\u001b[49m\u001b[43m(\u001b[49m\u001b[43moptions\u001b[49m\u001b[43m,\u001b[49m\u001b[43m \u001b[49m\u001b[43mblock_table\u001b[49m\u001b[43m,\u001b[49m\u001b[43m \u001b[49m\u001b[43mcategories\u001b[49m\u001b[43m,\u001b[49m\n\u001b[0;32m   1169\u001b[0m \u001b[43m                                    \u001b[49m\u001b[38;5;28;43mlist\u001b[39;49m\u001b[43m(\u001b[49m\u001b[43mextension_columns\u001b[49m\u001b[38;5;241;43m.\u001b[39;49m\u001b[43mkeys\u001b[49m\u001b[43m(\u001b[49m\u001b[43m)\u001b[49m\u001b[43m)\u001b[49m\u001b[43m)\u001b[49m\n\u001b[0;32m   1170\u001b[0m     \u001b[38;5;28;01mreturn\u001b[39;00m [_reconstruct_block(item, columns, extension_columns)\n\u001b[0;32m   1171\u001b[0m             \u001b[38;5;28;01mfor\u001b[39;00m item \u001b[38;5;129;01min\u001b[39;00m result]\n",
      "File \u001b[1;32m~\\AppData\\Local\\Programs\\Python\\Python311\\Lib\\site-packages\\pyarrow\\table.pxi:2771\u001b[0m, in \u001b[0;36mpyarrow.lib.table_to_blocks\u001b[1;34m()\u001b[0m\n",
      "File \u001b[1;32m~\\AppData\\Local\\Programs\\Python\\Python311\\Lib\\site-packages\\pyarrow\\error.pxi:117\u001b[0m, in \u001b[0;36mpyarrow.lib.check_status\u001b[1;34m()\u001b[0m\n",
      "\u001b[1;31mArrowMemoryError\u001b[0m: malloc of size 11889599168 failed"
     ]
    }
   ],
   "source": [
    "napi = NumerAPI()\n",
    "\n",
    "current_round = napi.get_current_round()\n",
    "\n",
    "# read in all of the new datas\n",
    "# tournament data and example predictions change every week so we specify the round in their names\n",
    "# training and validation data only change periodically, so no need to download them over again every single week\n",
    "#napi.download_dataset(\"v4/train.parquet\", \"train.parquet\")\n",
    "df = pd.read_parquet('train.parquet')\n",
    "\n",
    "df.head(10)"
   ]
  },
  {
   "cell_type": "code",
   "execution_count": 35,
   "id": "9267617d-ecdb-485a-9dab-151368521bfd",
   "metadata": {
    "tags": []
   },
   "outputs": [
    {
     "data": {
      "text/plain": [
       "<bound method NDFrame.describe of id\n",
       "n003bba8a98662e4      1\n",
       "n003bee128c2fcfc      1\n",
       "n0048ac83aff7194      1\n",
       "n00691bec80d3e02      1\n",
       "n00b8720a2fdc4f2      1\n",
       "                   ... \n",
       "nffc2d5e4b79a7ae    573\n",
       "nffc7d24176548a4    573\n",
       "nffc9844c1c7a6a9    573\n",
       "nffd79773f4109bb    573\n",
       "nfff87b21e4db902    573\n",
       "Name: erano, Length: 606176, dtype: int32>"
      ]
     },
     "execution_count": 35,
     "metadata": {},
     "output_type": "execute_result"
    }
   ],
   "source": [
    "features = [c for c in df if c.startswith(\"feature\")]\n",
    "target = \"target\"\n",
    "df[\"erano\"] = df.era.astype(int)\n",
    "eras = df.erano\n",
    "\n",
    "eras.describe"
   ]
  },
  {
   "cell_type": "code",
   "execution_count": 5,
   "id": "0680e35b-bcb8-40ce-b430-774305bac283",
   "metadata": {
    "tags": []
   },
   "outputs": [],
   "source": [
    "def numerai_score(y_true, y_pred):\n",
    "    #device = torch.device(\"cpu\")\n",
    "    #y_pred = pd.DataFrame(y_pred.cpu().numpy())\n",
    "    #y_true = pd.DataFrame(y_true.cpu().numpy())\n",
    "    rank_pred = y_pred.groupby(eras).apply(lambda x: x.rank(pct=True, method=\"first\"))\n",
    "    return np.corrcoef(y_true, rank_pred)[0,1]"
   ]
  },
  {
   "cell_type": "code",
   "execution_count": 6,
   "id": "15c4aea0-748e-4316-88dd-08a3c283ac6f",
   "metadata": {
    "tags": []
   },
   "outputs": [],
   "source": [
    "def accuracy_fn(y_true, y_pred):\n",
    "    correct = torch.eq(y_true, y_pred).sum().item()\n",
    "    acc = (correct / len(y_pred)) * 100\n",
    "    return acc"
   ]
  },
  {
   "cell_type": "code",
   "execution_count": 7,
   "id": "d968cc50-d8aa-4fd8-b71d-f5ac5fd71050",
   "metadata": {
    "tags": []
   },
   "outputs": [],
   "source": [
    "def numerai_corr(preds, target):\n",
    "  # rank (keeping ties) then Gaussianize predictions to standardize prediction distributions\n",
    "  ranked_preds = (preds.rank(method=\"average\").values - 0.5) / preds.count()\n",
    "  gauss_ranked_preds = stats.norm.ppf(ranked_preds)\n",
    "  \n",
    "  # make targets centered around 0\n",
    "  centered_target = target - target.mean()\n",
    "  \n",
    "  # raise both preds and target to the power of 1.5 to accentuate the tails\n",
    "  preds_p15 = np.sign(gauss_ranked_preds) * np.abs(gauss_ranked_preds) ** 1.5\n",
    "  target_p15 = np.sign(centered_target) * np.abs(centered_target) ** 1.5\n",
    "  \n",
    "  # finally return the Pearson correlation\n",
    "  return np.corrcoef(preds_p15, target_p15)[0, 1]"
   ]
  },
  {
   "cell_type": "code",
   "execution_count": 8,
   "id": "abf4e703-87f9-46b1-9e27-5bb9988aed30",
   "metadata": {
    "tags": []
   },
   "outputs": [
    {
     "name": "stderr",
     "output_type": "stream",
     "text": [
      "C:\\Users\\farqu\\AppData\\Local\\Temp\\ipykernel_6688\\4071572803.py:3: UserWarning: Boolean Series key will be reindexed to match DataFrame index.\n",
      "  df1 = df[eras<=eras.median()]\n",
      "C:\\Users\\farqu\\AppData\\Local\\Temp\\ipykernel_6688\\4071572803.py:4: UserWarning: Boolean Series key will be reindexed to match DataFrame index.\n",
      "  df2 = df[eras>eras.median()]\n"
     ]
    }
   ],
   "source": [
    "#Group 1\n",
    "df = df[eras.isin(np.arange(1, 575, 4))]\n",
    "df1 = df[eras<=eras.median()]\n",
    "df2 = df[eras>eras.median()]\n",
    "eras = eras[eras.isin(np.arange(1, 575, 4))]"
   ]
  },
  {
   "cell_type": "code",
   "execution_count": 192,
   "id": "ffd35690-a04c-4d03-b972-038201d0c43d",
   "metadata": {
    "tags": []
   },
   "outputs": [
    {
     "ename": "NameError",
     "evalue": "name 'df1' is not defined",
     "output_type": "error",
     "traceback": [
      "\u001b[1;31m---------------------------------------------------------------------------\u001b[0m",
      "\u001b[1;31mNameError\u001b[0m                                 Traceback (most recent call last)",
      "Cell \u001b[1;32mIn[192], line 1\u001b[0m\n\u001b[1;32m----> 1\u001b[0m zeros \u001b[38;5;241m=\u001b[39m \u001b[43mdf1\u001b[49m[target]\u001b[38;5;241m.\u001b[39mvalue_counts()[\u001b[38;5;241m0.0\u001b[39m]\n",
      "\u001b[1;31mNameError\u001b[0m: name 'df1' is not defined"
     ]
    }
   ],
   "source": [
    "zeros = df1[target].value_counts()[0.0]"
   ]
  },
  {
   "cell_type": "code",
   "execution_count": 9,
   "id": "920c8a15-113a-4af3-8f13-5805d35d9625",
   "metadata": {
    "tags": []
   },
   "outputs": [
    {
     "name": "stdout",
     "output_type": "stream",
     "text": [
      "[0.5 0.5 1.  ... 0.5 0.5 0.5]\n",
      "tensor([0.5000, 0.5000, 1.0000,  ..., 0.5000, 0.5000, 0.5000])\n"
     ]
    },
    {
     "name": "stderr",
     "output_type": "stream",
     "text": [
      "C:\\Users\\farqu\\AppData\\Local\\Temp\\ipykernel_6688\\4157424467.py:7: SettingWithCopyWarning: \n",
      "A value is trying to be set on a copy of a slice from a DataFrame.\n",
      "Try using .loc[row_indexer,col_indexer] = value instead\n",
      "\n",
      "See the caveats in the documentation: https://pandas.pydata.org/pandas-docs/stable/user_guide/indexing.html#returning-a-view-versus-a-copy\n",
      "  df2[\"target1\"]=np1.tolist()\n"
     ]
    },
    {
     "data": {
      "image/png": "[encoded data removed]",
      "text/plain": [
       "<Figure size 640x480 with 1 Axes>"
      ]
     },
     "metadata": {},
     "output_type": "display_data"
    },
    {
     "data": {
      "image/png": "[encoded data removed]",
      "text/plain": [
       "<Figure size 640x480 with 1 Axes>"
      ]
     },
     "metadata": {},
     "output_type": "display_data"
    }
   ],
   "source": [
    "hist1 = df2.hist(column='target')\n",
    "\n",
    "tensor1 = torch.tensor(df2[target].values).type(torch.FloatTensor)\n",
    "print(df2[target].values)\n",
    "print(tensor1)\n",
    "np1 = tensor1.cpu().numpy()\n",
    "df2[\"target1\"]=np1.tolist()\n",
    "\n",
    "hist2 = df2.hist(column='target1')"
   ]
  },
  {
   "cell_type": "code",
   "execution_count": 78,
   "id": "31470684-cfc9-4a8c-8fee-a2b6bbd92879",
   "metadata": {
    "tags": []
   },
   "outputs": [],
   "source": [
    "device = \"cpu\"\n",
    "features_train, target_train = features_train.to(device), target_train.to(device)\n",
    "\n",
    "\n",
    "features_train = torch.tensor(df1[features].values)\n",
    "target_train = torch.tensor(df1[target].values).type(torch.FloatTensor).reshape(302305,1)\n",
    "\n",
    "features_test = torch.tensor(df2[features].values)\n",
    "target_test = torch.tensor(df2[target].values).type(torch.FloatTensor).reshape(303871,1)"
   ]
  },
  {
   "cell_type": "code",
   "execution_count": 132,
   "id": "5cdb125d-b74d-4d17-8c15-97d4db6a936d",
   "metadata": {
    "tags": []
   },
   "outputs": [],
   "source": [
    "device = \"cuda\""
   ]
  },
  {
   "cell_type": "code",
   "execution_count": 165,
   "id": "6c5693ba-fc0e-4527-8736-be49a0e9afbf",
   "metadata": {
    "tags": []
   },
   "outputs": [],
   "source": [
    "class NumeraiV4(nn.Module):\n",
    "    def __init__(self, input_features, output_features):\n",
    "        super().__init__()\n",
    "        self.linear_layer_stack = nn.Sequential(\n",
    "            nn.Linear(in_features=input_features, out_features=64),\n",
    "            nn.ReLU(),\n",
    "            nn.Linear(64,32),\n",
    "            nn.ReLU(),\n",
    "            nn.Linear(32,16),\n",
    "            nn.ReLU(),\n",
    "            nn.Linear(16, out_features=output_features),\n",
    "        )\n",
    "        self.apply(self._init_weights)\n",
    "        \n",
    "    def forward(self, x):\n",
    "        return self.linear_layer_stack(x)\n",
    "    \n",
    "    def _init_weights(self, module):\n",
    "        if isinstance(module, nn.Linear):\n",
    "            module.weight.data.normal_(mean=0.0, std=1.0)\n",
    "            if module.bias is not None:\n",
    "                module.bias.data.zero_()\n"
   ]
  },
  {
   "cell_type": "code",
   "execution_count": 166,
   "id": "01674436-69f5-406d-9f9b-6a9c7716762c",
   "metadata": {
    "tags": []
   },
   "outputs": [
    {
     "data": {
      "text/plain": [
       "NumeraiV4(\n",
       "  (linear_layer_stack): Sequential(\n",
       "    (0): Linear(in_features=1191, out_features=64, bias=True)\n",
       "    (1): ReLU()\n",
       "    (2): Linear(in_features=64, out_features=32, bias=True)\n",
       "    (3): ReLU()\n",
       "    (4): Linear(in_features=32, out_features=16, bias=True)\n",
       "    (5): ReLU()\n",
       "    (6): Linear(in_features=16, out_features=1, bias=True)\n",
       "  )\n",
       ")"
      ]
     },
     "execution_count": 166,
     "metadata": {},
     "output_type": "execute_result"
    }
   ],
   "source": [
    "model_0 = NumeraiV4(input_features=1191,output_features=1).to(device)\n",
    "model_0"
   ]
  },
  {
   "cell_type": "code",
   "execution_count": 167,
   "id": "28343738-5e6b-41c0-b68e-718565f70a07",
   "metadata": {
    "tags": []
   },
   "outputs": [
    {
     "name": "stdout",
     "output_type": "stream",
     "text": [
      "Length of predictions: 302305, Shape: torch.Size([302305, 1])\n",
      "Length of test samples: 303871, Shape: torch.Size([303871, 1])\n",
      "\n",
      "First 10 predictions:\n",
      "tensor([[2037.4331],\n",
      "        [1176.0287],\n",
      "        [ 624.3177],\n",
      "        [1769.2830],\n",
      "        [1908.6171],\n",
      "        [ 916.8145],\n",
      "        [ 998.7130],\n",
      "        [1912.1570],\n",
      "        [1793.6025],\n",
      "        [2001.4690]], device='cuda:0', grad_fn=<SliceBackward0>)\n",
      "\n",
      "First 10 test labels:\n",
      "tensor([[0.5000],\n",
      "        [0.5000],\n",
      "        [1.0000],\n",
      "        [0.5000],\n",
      "        [0.7500],\n",
      "        [0.5000],\n",
      "        [0.5000],\n",
      "        [0.2500],\n",
      "        [0.2500],\n",
      "        [0.5000]], device='cuda:0')\n"
     ]
    }
   ],
   "source": [
    "untrained_preds = model_0(features_train.to(device))\n",
    "print(f\"Length of predictions: {len(untrained_preds)}, Shape: {untrained_preds.shape}\")\n",
    "print(f\"Length of test samples: {len(target_test)}, Shape: {target_test.shape}\")\n",
    "print(f\"\\nFirst 10 predictions:\\n{untrained_preds[:10]}\")\n",
    "print(f\"\\nFirst 10 test labels:\\n{target_test[:10]}\")"
   ]
  },
  {
   "cell_type": "code",
   "execution_count": 169,
   "id": "3fe89bee-e05f-4cbe-8c7e-4708f86eb30a",
   "metadata": {
    "tags": []
   },
   "outputs": [],
   "source": [
    "loss_fn = nn.MSELoss()\n",
    "\n",
    "optimizer = torch.optim.Adam(params=model_0.parameters(), lr=0.001)"
   ]
  },
  {
   "cell_type": "code",
   "execution_count": 170,
   "id": "1bf1b1f3-e312-47e8-a9e7-f41f902e0a6d",
   "metadata": {
    "tags": []
   },
   "outputs": [
    {
     "data": {
      "text/plain": [
       "tensor([[ 627.4161],\n",
       "        [1568.2784],\n",
       "        [ 855.1074],\n",
       "        [ 221.2258],\n",
       "        [1589.6326]], device='cuda:0', grad_fn=<SliceBackward0>)"
      ]
     },
     "execution_count": 170,
     "metadata": {},
     "output_type": "execute_result"
    }
   ],
   "source": [
    "y_logits = model_0(features_test.to(device))[:5]\n",
    "y_logits"
   ]
  },
  {
   "cell_type": "code",
   "execution_count": 179,
   "id": "8b28baf8-9e5c-41fc-9026-087b97ca3097",
   "metadata": {
    "tags": []
   },
   "outputs": [
    {
     "data": {
      "text/plain": [
       "0"
      ]
     },
     "execution_count": 179,
     "metadata": {},
     "output_type": "execute_result"
    }
   ],
   "source": [
    "device = \"cuda\"\n",
    "\n",
    "features_train = features_train.to(device)\n",
    "target_train = target_train.to(device)\n",
    "features_test = features_test.to(device)\n",
    "target_test = target_test.to(device)\n",
    "\n",
    "train_data = features_train, target_train\n",
    "features_test, target_test = features_test, target_test\n",
    "\n",
    "train_dataset = TensorDataset(features_train, target_train)\n",
    "train_loader = DataLoader(train_dataset, batch_size=10, shuffle=True)\n",
    "\n",
    "features_train.get_device()"
   ]
  },
  {
   "cell_type": "code",
   "execution_count": 45,
   "id": "48696c10-8fe3-450a-9cc5-f3d10da69ad7",
   "metadata": {
    "tags": []
   },
   "outputs": [
    {
     "name": "stdout",
     "output_type": "stream",
     "text": [
      "torch.Size([302305, 1191]) torch.Size([302305, 1])\n"
     ]
    }
   ],
   "source": [
    "print(features_train.size(), target_train.size())"
   ]
  },
  {
   "cell_type": "code",
   "execution_count": 180,
   "id": "ef8ff933-6cf3-4d0a-bb8b-3814a58e7c41",
   "metadata": {
    "tags": []
   },
   "outputs": [
    {
     "name": "stdout",
     "output_type": "stream",
     "text": [
      "Epoch 1/10, Loss: 1.5978\n",
      "Epoch 2/10, Loss: 1.6796\n",
      "Epoch 3/10, Loss: 1.4255\n",
      "Epoch 4/10, Loss: 0.8610\n",
      "Epoch 5/10, Loss: 1.1654\n",
      "Epoch 6/10, Loss: 0.2948\n",
      "Epoch 7/10, Loss: 0.0564\n",
      "Epoch 8/10, Loss: 0.0500\n",
      "Epoch 9/10, Loss: 0.0500\n",
      "Epoch 10/10, Loss: 0.0499\n"
     ]
    },
    {
     "data": {
      "text/plain": [
       "<All keys matched successfully>"
      ]
     },
     "execution_count": 180,
     "metadata": {},
     "output_type": "execute_result"
    }
   ],
   "source": [
    "torch.manual_seed(42)\n",
    "\n",
    "batch_size = 1\n",
    "batch_start = torch.arange(0, len(features_train), batch_size)\n",
    "best_mse = np.inf\n",
    "best_weights = None\n",
    "history = []\n",
    "epochs = 10\n",
    "\n",
    "for epoch in range(epochs):\n",
    "    model_0.train()\n",
    "    total_loss = 0\n",
    "    #with tqdm.tqdm(batch_start, unit=\"batch\", mininterval=0, disable=True) as bar:\n",
    "    for data, target_data in train_loader:\n",
    "        #bar.set_description(f\"Epoch {epoch}\")\n",
    "        #X_batch = features_train[d]\n",
    "        #print(X_batch.shape)\n",
    "        #y_batch = target_train[]\n",
    "\n",
    "        y_pred = model_0(data)\n",
    "\n",
    "        #print(y_pred.size(), target_data.size())\n",
    "        loss = loss_fn(y_pred, target_data)\n",
    "        #acc = accuracy_fn(y_true=target_train,y_pred=y_pred)\n",
    "\n",
    "        optimizer.zero_grad()\n",
    "\n",
    "        loss.backward()\n",
    "\n",
    "        optimizer.step()\n",
    "\n",
    "        #bar.set_postfix(mse=float(loss))\n",
    "        total_loss += loss.item()\n",
    "        \n",
    "    average_loss = total_loss / len(train_loader)\n",
    "    print(f\"Epoch {epoch+1}/{epochs}, Loss: {average_loss:.4f}\")\n",
    "    \n",
    "    model_0.eval()\n",
    "    y_pred = model_0(features_test)\n",
    "    mse = loss_fn(y_pred, target_test)\n",
    "    mse = float(mse)\n",
    "    history.append(mse)\n",
    "    if mse < best_mse:\n",
    "        best_mse = mse\n",
    "        best_weights = copy.deepcopy(model_0.state_dict())\n",
    "        \n",
    "model_0.load_state_dict(best_weights)"
   ]
  },
  {
   "cell_type": "code",
   "execution_count": 181,
   "id": "3c6aac5b-a048-4eed-b628-b890f57878cb",
   "metadata": {
    "tags": []
   },
   "outputs": [],
   "source": [
    "device = \"cuda\"\n",
    "features_test, target_test = features_test.to(device), target_test.to(device)\n",
    "model_0.eval()\n",
    "with torch.inference_mode():\n",
    "    y_preds = model_0(features_test)"
   ]
  },
  {
   "cell_type": "code",
   "execution_count": 182,
   "id": "2c9cf1a4-ac90-401e-b158-b0da749945f5",
   "metadata": {
    "tags": []
   },
   "outputs": [
    {
     "name": "stderr",
     "output_type": "stream",
     "text": [
      "C:\\Users\\farqu\\AppData\\Local\\Temp\\ipykernel_6688\\3291735226.py:4: SettingWithCopyWarning: \n",
      "A value is trying to be set on a copy of a slice from a DataFrame.\n",
      "Try using .loc[row_indexer,col_indexer] = value instead\n",
      "\n",
      "See the caveats in the documentation: https://pandas.pydata.org/pandas-docs/stable/user_guide/indexing.html#returning-a-view-versus-a-copy\n",
      "  df2[\"preds\"]=preds_np.tolist()\n",
      "C:\\Users\\farqu\\AppData\\Local\\Programs\\Python\\Python311\\Lib\\site-packages\\numpy\\lib\\function_base.py:2853: RuntimeWarning: invalid value encountered in divide\n",
      "  c /= stddev[:, None]\n",
      "C:\\Users\\farqu\\AppData\\Local\\Programs\\Python\\Python311\\Lib\\site-packages\\numpy\\lib\\function_base.py:2854: RuntimeWarning: invalid value encountered in divide\n",
      "  c /= stddev[None, :]\n"
     ]
    }
   ],
   "source": [
    "#target_np = target_test.cpu().numpy()\n",
    "preds_np = y_preds.cpu().numpy()\n",
    "\n",
    "df2[\"preds\"]=preds_np.tolist()\n",
    "#df2[\"target_test\"]=target_np.tolist()\n",
    "\n",
    "corr = numerai_corr(df2[\"preds\"], df2[target])\n",
    "score = numerai_score(df2[target], df2[\"preds\"])"
   ]
  },
  {
   "cell_type": "code",
   "execution_count": 184,
   "id": "8466bd80-916c-461a-9b18-35fdd703417b",
   "metadata": {
    "tags": []
   },
   "outputs": [
    {
     "data": {
      "text/plain": [
       "(nan, -0.0014270811591519995)"
      ]
     },
     "execution_count": 184,
     "metadata": {},
     "output_type": "execute_result"
    }
   ],
   "source": [
    "corr, score"
   ]
  },
  {
   "cell_type": "code",
   "execution_count": 185,
   "id": "4534b59a-2418-4792-8db8-4b1a7dcb6e2f",
   "metadata": {
    "tags": []
   },
   "outputs": [
    {
     "name": "stdout",
     "output_type": "stream",
     "text": [
      "                                 preds  target\n",
      "id                                            \n",
      "n000381ad0c8af9b  [0.5005451440811157]    0.50\n",
      "n000ac54b6e92b06  [0.5005451440811157]    0.50\n",
      "n002da3f2943306f  [0.5005451440811157]    1.00\n",
      "n003ce01108ee7fe  [0.5005451440811157]    0.50\n",
      "n004a5425ef72d68  [0.5005451440811157]    0.75\n",
      "...                                ...     ...\n",
      "nffc2d5e4b79a7ae  [0.5005451440811157]    0.25\n",
      "nffc7d24176548a4  [0.5005451440811157]    0.50\n",
      "nffc9844c1c7a6a9  [0.5005451440811157]    0.50\n",
      "nffd79773f4109bb  [0.5005451440811157]    0.50\n",
      "nfff87b21e4db902  [0.5005451440811157]    0.50\n",
      "\n",
      "[303871 rows x 2 columns]\n"
     ]
    }
   ],
   "source": [
    "#hist = df2.hist(column='target_test')\n",
    "\n",
    "print(df2[[\"preds\",target]])"
   ]
  },
  {
   "cell_type": "code",
   "execution_count": 191,
   "id": "94f7cb2d-0dc1-4470-867a-2e60f6c0ef35",
   "metadata": {
    "tags": []
   },
   "outputs": [
    {
     "ename": "NameError",
     "evalue": "name 'df1' is not defined",
     "output_type": "error",
     "traceback": [
      "\u001b[1;31m---------------------------------------------------------------------------\u001b[0m",
      "\u001b[1;31mNameError\u001b[0m                                 Traceback (most recent call last)",
      "Cell \u001b[1;32mIn[191], line 1\u001b[0m\n\u001b[1;32m----> 1\u001b[0m \u001b[38;5;28;01mdel\u001b[39;00m \u001b[43mdf1\u001b[49m\n\u001b[0;32m      3\u001b[0m gc\u001b[38;5;241m.\u001b[39mcollect()\n",
      "\u001b[1;31mNameError\u001b[0m: name 'df1' is not defined"
     ]
    }
   ],
   "source": []
  }
 ],
 "metadata": {
  "kernelspec": {
   "display_name": "Python 3 (ipykernel)",
   "language": "python",
   "name": "python3"
  },
  "language_info": {
   "codemirror_mode": {
    "name": "ipython",
    "version": 3
   },
   "file_extension": ".py",
   "mimetype": "text/x-python",
   "name": "python",
   "nbconvert_exporter": "python",
   "pygments_lexer": "ipython3",
   "version": "3.11.3"
  }
 },
 "nbformat": 4,
 "nbformat_minor": 5
}
